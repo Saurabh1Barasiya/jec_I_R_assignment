{
  "nbformat": 4,
  "nbformat_minor": 0,
  "metadata": {
    "colab": {
      "name": "I_R_assignment_0_1.ipynb",
      "provenance": [],
      "authorship_tag": "ABX9TyM3oNvg8yYvmxtMDF8COpkr",
      "include_colab_link": true
    },
    "kernelspec": {
      "name": "python3",
      "display_name": "Python 3"
    }
  },
  "cells": [
    {
      "cell_type": "markdown",
      "metadata": {
        "id": "view-in-github",
        "colab_type": "text"
      },
      "source": [
        "<a href=\"https://colab.research.google.com/github/Saurabh1Barasiya/jec_I_R_assignment/blob/master/I_R_assignment_0_1.ipynb\" target=\"_parent\"><img src=\"https://colab.research.google.com/assets/colab-badge.svg\" alt=\"Open In Colab\"/></a>"
      ]
    },
    {
      "cell_type": "markdown",
      "metadata": {
        "id": "wC8gf50XPhR7",
        "colab_type": "text"
      },
      "source": [
        "##  I_R_Assignment    \n",
        "### roll_no :-    0201IT183D10  \n",
        "#### Name :-      Saurabh Barasiya\n",
        "\n"
      ]
    },
    {
      "cell_type": "code",
      "metadata": {
        "id": "65XjsqOA6OBt",
        "colab_type": "code",
        "colab": {}
      },
      "source": [
        "! df -h\n",
        "! free -g\n",
        "! free -m\n",
        "! cat /proc/cpuinfo\n",
        "! cat /proc/meminfo\n",
        "! lshw\n",
        "! sudo apt-get install lshw\n",
        "! lshw\n",
        "! wget http://mlg.ucd.ie/files/datasets/bbc-fulltext.zip\n",
        "! unzip bbc-fulltext.zip"
      ],
      "execution_count": null,
      "outputs": []
    },
    {
      "cell_type": "code",
      "metadata": {
        "id": "EjQtgsPC6Shm",
        "colab_type": "code",
        "colab": {
          "base_uri": "https://localhost:8080/",
          "height": 51
        },
        "outputId": "fcde7bda-bea1-4fcd-adab-1c59b28cc390"
      },
      "source": [
        "# TDM / Incidence Matrix\n",
        "! pip install textmining3\n",
        "import textmining\n",
        "import glob"
      ],
      "execution_count": null,
      "outputs": [
        {
          "output_type": "stream",
          "text": [
            "Requirement already satisfied: textmining3 in /usr/local/lib/python3.6/dist-packages (1.1.0)\n",
            "Requirement already satisfied: Click>=6.0 in /usr/local/lib/python3.6/dist-packages (from textmining3) (7.1.2)\n"
          ],
          "name": "stdout"
        }
      ]
    },
    {
      "cell_type": "code",
      "metadata": {
        "id": "EoDDJxpv6dpn",
        "colab_type": "code",
        "colab": {
          "base_uri": "https://localhost:8080/",
          "height": 34
        },
        "outputId": "5183169f-f633-42f0-f5ba-306861849130"
      },
      "source": [
        "! ls"
      ],
      "execution_count": null,
      "outputs": [
        {
          "output_type": "stream",
          "text": [
            "bbc  bbc-fulltext.zip  bbc-fulltext.zip.1  dtm.csv  sample_data\n"
          ],
          "name": "stdout"
        }
      ]
    },
    {
      "cell_type": "code",
      "metadata": {
        "id": "i_WT02kv6hlG",
        "colab_type": "code",
        "colab": {}
      },
      "source": [
        "import os\n",
        "tdm = textmining.TermDocumentMatrix()\n",
        "files = glob.glob(\"bbc/business/*.txt\")\n",
        "print(files)\n",
        "doc_name_arr = []\n",
        "\n",
        "for f in files:\n",
        "  content = open(f).read()\n",
        "  content = content.replace(\"\\n\", \" \")\n",
        "  tdm.add_doc(content)\n",
        "  doc_name_arr.append(os.path.basename(f))\n",
        "\n",
        "for i in tdm.rows():\n",
        "  print(i)\n",
        "\n",
        "tdm.write_csv('dtm.csv', cutoff=1)\n",
        "\n",
        "import pandas as pd\n",
        "\n",
        "tdm_mat = list(tdm.rows())\n",
        "transpose_tdm_mat = pd.DataFrame(tdm_mat).T\n",
        "transpose_tdm_mat\n",
        "\n",
        "\n",
        "for col in transpose_tdm_mat.columns:\n",
        "  if col == 0:\n",
        "    continue\n",
        "  # Conditional Replacement in Dataframe - Columnwise\n",
        "  transpose_tdm_mat.loc[transpose_tdm_mat[col] > 0, col] = 1\n",
        "\n",
        "transpose_tdm_mat\n"
      ],
      "execution_count": null,
      "outputs": []
    },
    {
      "cell_type": "markdown",
      "metadata": {
        "id": "HPvtbR8aPdYB",
        "colab_type": "text"
      },
      "source": [
        ""
      ]
    },
    {
      "cell_type": "code",
      "metadata": {
        "id": "Lyv5Yw668y3y",
        "colab_type": "code",
        "colab": {}
      },
      "source": [
        "def function_and(terms,transpose_tdm_mat,doc_name_arr):\n",
        "      \"\"\" it  takes terms , transpose matrix and doc_name_arr \"\"\"\n",
        "      final_docs = []\n",
        "      and_row = []\n",
        "      dfs = pd.DataFrame()\n",
        "      for term in terms:\n",
        "          df_temp = transpose_tdm_mat[transpose_tdm_mat[0] == term].drop(columns=[0])\n",
        "          dfs = pd.concat([dfs, df_temp])\n",
        "      print('-'*25)\n",
        "      print(dfs)   \n",
        "      print('-'*25)\n",
        "\n",
        "      for c in range(dfs.shape[1]):\n",
        "            and_result = 1\n",
        "            for r in range(dfs.shape[0]):\n",
        "                   and_result = and_result and dfs.iloc[r, c]\n",
        "            and_row.append(and_result)\n",
        "      print(and_row)\n",
        "      and_df = pd.DataFrame([and_row])\n",
        "\n",
        "      for c in range(and_df.shape[1]):\n",
        "           if and_df.iloc[0, c] == 1:\n",
        "                final_docs.append(doc_name_arr[c])\n",
        "      return final_docs\n",
        "\n",
        "\n",
        "\n",
        "def function_or(terms,transpose_tdm_mat,doc_name_arr):\n",
        "      \"\"\" it  takes terms , transpose matrix and doc_name_arr\"\"\"\n",
        "      final_docs = []\n",
        "      or_row = []\n",
        "      dfs = pd.DataFrame()\n",
        "      for term in terms:\n",
        "          df_temp = transpose_tdm_mat[transpose_tdm_mat[0] == term].drop(columns=[0])\n",
        "          dfs = pd.concat([dfs, df_temp])\n",
        "      print('-'*25)\n",
        "      print(dfs)   \n",
        "      print('-'*25)\n",
        "\n",
        "      for c in range(dfs.shape[1]):\n",
        "           or_result = 0\n",
        "           for r in range(dfs.shape[0]):\n",
        "              or_result = or_result or dfs.iloc[r, c]\n",
        "           or_row.append(or_result)\n",
        "      print(or_row)\n",
        "      or_df = pd.DataFrame([or_row])\n",
        "\n",
        "      for c in range(or_df.shape[1]):\n",
        "           if or_df.iloc[0, c] == 1:\n",
        "                final_docs.append(doc_name_arr[c])\n",
        "      return final_docs"
      ],
      "execution_count": null,
      "outputs": []
    },
    {
      "cell_type": "code",
      "metadata": {
        "id": "riLCBaqV7SlI",
        "colab_type": "code",
        "colab": {
          "base_uri": "https://localhost:8080/",
          "height": 207
        },
        "outputId": "e8e15abe-a3c4-4fc3-8ca4-38223c77b322"
      },
      "source": [
        "query = input(\"Enter boolean search (AND / OR) : \")\n",
        "terms = query.split(\"and\")\n",
        "terms = [term.strip() for term in terms]\n",
        "terms\n",
        "if 'and' in query:\n",
        "    ret_final_docs = function_and(terms,transpose_tdm_mat,doc_name_arr)\n",
        "    print(ret_final_docs)\n",
        "elif 'or' in query:\n",
        "    ret_final_docs = function_or(terms,transpose_tdm_mat,doc_name_arr)\n",
        "    print(ret_final_docs)\n"
      ],
      "execution_count": null,
      "outputs": [
        {
          "output_type": "stream",
          "text": [
            "Enter boolean search (AND / OR) : let or to\n",
            "-------------------------\n",
            "Empty DataFrame\n",
            "Columns: [1, 2, 3, 4, 5, 6, 7, 8, 9, 10, 11, 12, 13, 14, 15, 16, 17, 18, 19, 20, 21, 22, 23, 24, 25, 26, 27, 28, 29, 30, 31, 32, 33, 34, 35, 36, 37, 38, 39, 40, 41, 42, 43, 44, 45, 46, 47, 48, 49, 50, 51, 52, 53, 54, 55, 56, 57, 58, 59, 60, 61, 62, 63, 64, 65, 66, 67, 68, 69, 70, 71, 72, 73, 74, 75, 76, 77, 78, 79, 80, 81, 82, 83, 84, 85, 86, 87, 88, 89, 90, 91, 92, 93, 94, 95, 96, 97, 98, 99, 100, ...]\n",
            "Index: []\n",
            "\n",
            "[0 rows x 510 columns]\n",
            "-------------------------\n",
            "[0, 0, 0, 0, 0, 0, 0, 0, 0, 0, 0, 0, 0, 0, 0, 0, 0, 0, 0, 0, 0, 0, 0, 0, 0, 0, 0, 0, 0, 0, 0, 0, 0, 0, 0, 0, 0, 0, 0, 0, 0, 0, 0, 0, 0, 0, 0, 0, 0, 0, 0, 0, 0, 0, 0, 0, 0, 0, 0, 0, 0, 0, 0, 0, 0, 0, 0, 0, 0, 0, 0, 0, 0, 0, 0, 0, 0, 0, 0, 0, 0, 0, 0, 0, 0, 0, 0, 0, 0, 0, 0, 0, 0, 0, 0, 0, 0, 0, 0, 0, 0, 0, 0, 0, 0, 0, 0, 0, 0, 0, 0, 0, 0, 0, 0, 0, 0, 0, 0, 0, 0, 0, 0, 0, 0, 0, 0, 0, 0, 0, 0, 0, 0, 0, 0, 0, 0, 0, 0, 0, 0, 0, 0, 0, 0, 0, 0, 0, 0, 0, 0, 0, 0, 0, 0, 0, 0, 0, 0, 0, 0, 0, 0, 0, 0, 0, 0, 0, 0, 0, 0, 0, 0, 0, 0, 0, 0, 0, 0, 0, 0, 0, 0, 0, 0, 0, 0, 0, 0, 0, 0, 0, 0, 0, 0, 0, 0, 0, 0, 0, 0, 0, 0, 0, 0, 0, 0, 0, 0, 0, 0, 0, 0, 0, 0, 0, 0, 0, 0, 0, 0, 0, 0, 0, 0, 0, 0, 0, 0, 0, 0, 0, 0, 0, 0, 0, 0, 0, 0, 0, 0, 0, 0, 0, 0, 0, 0, 0, 0, 0, 0, 0, 0, 0, 0, 0, 0, 0, 0, 0, 0, 0, 0, 0, 0, 0, 0, 0, 0, 0, 0, 0, 0, 0, 0, 0, 0, 0, 0, 0, 0, 0, 0, 0, 0, 0, 0, 0, 0, 0, 0, 0, 0, 0, 0, 0, 0, 0, 0, 0, 0, 0, 0, 0, 0, 0, 0, 0, 0, 0, 0, 0, 0, 0, 0, 0, 0, 0, 0, 0, 0, 0, 0, 0, 0, 0, 0, 0, 0, 0, 0, 0, 0, 0, 0, 0, 0, 0, 0, 0, 0, 0, 0, 0, 0, 0, 0, 0, 0, 0, 0, 0, 0, 0, 0, 0, 0, 0, 0, 0, 0, 0, 0, 0, 0, 0, 0, 0, 0, 0, 0, 0, 0, 0, 0, 0, 0, 0, 0, 0, 0, 0, 0, 0, 0, 0, 0, 0, 0, 0, 0, 0, 0, 0, 0, 0, 0, 0, 0, 0, 0, 0, 0, 0, 0, 0, 0, 0, 0, 0, 0, 0, 0, 0, 0, 0, 0, 0, 0, 0, 0, 0, 0, 0, 0, 0, 0, 0, 0, 0, 0, 0, 0, 0, 0, 0, 0, 0, 0, 0, 0, 0, 0, 0, 0, 0, 0, 0, 0, 0, 0, 0, 0, 0, 0, 0, 0, 0, 0, 0, 0, 0, 0, 0, 0, 0, 0, 0, 0, 0, 0, 0, 0, 0, 0, 0, 0, 0, 0, 0, 0, 0, 0, 0, 0, 0, 0, 0, 0, 0, 0, 0, 0, 0, 0, 0, 0, 0, 0, 0, 0, 0, 0, 0, 0, 0, 0, 0, 0, 0]\n",
            "[]\n"
          ],
          "name": "stdout"
        }
      ]
    },
    {
      "cell_type": "code",
      "metadata": {
        "id": "NwAZ5pQn-nk_",
        "colab_type": "code",
        "colab": {
          "base_uri": "https://localhost:8080/",
          "height": 34
        },
        "outputId": "df8326ae-9ac9-43dd-b3d7-f2c843ea4efd"
      },
      "source": [
        "# Sparsity Calculation in the DF\n",
        "zero_count = 0\n",
        "for col in transpose_tdm_mat.columns:\n",
        "  if col == 0:\n",
        "    continue\n",
        "  zero_count += transpose_tdm_mat[col].value_counts()[0]\n",
        "\n",
        "sparsity = (zero_count / (transpose_tdm_mat.shape[0] * (transpose_tdm_mat.shape[1] - 1))) * 100\n",
        "print(str(sparsity) + \" % sparsity\")\n",
        "# Sparsity contributes increase in Space as well as Time Complexity\n"
      ],
      "execution_count": null,
      "outputs": [
        {
          "output_type": "stream",
          "text": [
            "97.17873872097037 % sparsity\n"
          ],
          "name": "stdout"
        }
      ]
    },
    {
      "cell_type": "code",
      "metadata": {
        "id": "45Z_Cs7nHikJ",
        "colab_type": "code",
        "colab": {}
      },
      "source": [
        ""
      ],
      "execution_count": null,
      "outputs": []
    }
  ]
}